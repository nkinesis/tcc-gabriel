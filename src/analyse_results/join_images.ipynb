{
 "cells": [
  {
   "cell_type": "code",
   "execution_count": 47,
   "metadata": {},
   "outputs": [],
   "source": [
    "import sys\n",
    "import numpy as np\n",
    "import pandas as pd\n",
    "from PIL import Image"
   ]
  },
  {
   "cell_type": "code",
   "execution_count": 34,
   "metadata": {},
   "outputs": [],
   "source": [
    "countries_data = {\n",
    "    'United Kingdom': 67886011,\n",
    "    'Iceland': 341243,\n",
    "    'Finland': 5540720,\n",
    "    'Italy': 60461826,\n",
    "    'Norway': 5421241,\n",
    "    'Bahrain': 1701575,\n",
    "    'Spain': 46754778,\n",
    "    'Portugal': 10196709,\n",
    "    'Switzerland': 8654622,\n",
    "    'Austria': 9006398,\n",
    "    'Cyprus': 1207359,\n",
    "    'Belgium': 11589623,\n",
    "    'Unspecified': 0,\n",
    "    'Denmark': 5792202,\n",
    "    'Australia': 25499884,\n",
    "    'France': 65273511,\n",
    "    'Germany': 83783942,\n",
    "    'RSA': 59308690,\n",
    "    'Greece': 10423054,\n",
    "    'Sweden': 10099265,\n",
    "    'Israel': 8655535,\n",
    "    'USA': 331002651,\n",
    "    'Saudi Arabia': 34813871,\n",
    "    'Poland': 37846611,\n",
    "    'United Arab Emirates': 9890402,\n",
    "    'Singapore': 5850342,\n",
    "    'Japan': 126476461,\n",
    "    'Netherlands': 17134872,\n",
    "    'Lebanon': 6825445,\n",
    "    'Brazil': 212559417,\n",
    "    'Czech Republic': 10708981,\n",
    "    'EIRE': 4937786,\n",
    "    'Channel Islands': 173863,\n",
    "    'European Community': 0,\n",
    "    'Lithuania': 2722289,\n",
    "    'Canada': 37742154,\n",
    "    'Malta': 441543\n",
    "}"
   ]
  },
  {
   "cell_type": "code",
   "execution_count": 80,
   "metadata": {},
   "outputs": [
    {
     "data": {
      "text/plain": [
       "37"
      ]
     },
     "execution_count": 80,
     "metadata": {},
     "output_type": "execute_result"
    }
   ],
   "source": [
    "len(countries_data.values())"
   ]
  },
  {
   "cell_type": "code",
   "execution_count": 63,
   "metadata": {},
   "outputs": [
    {
     "data": {
      "text/html": [
       "<div>\n",
       "<style scoped>\n",
       "    .dataframe tbody tr th:only-of-type {\n",
       "        vertical-align: middle;\n",
       "    }\n",
       "\n",
       "    .dataframe tbody tr th {\n",
       "        vertical-align: top;\n",
       "    }\n",
       "\n",
       "    .dataframe thead th {\n",
       "        text-align: right;\n",
       "    }\n",
       "</style>\n",
       "<table border=\"1\" class=\"dataframe\">\n",
       "  <thead>\n",
       "    <tr style=\"text-align: right;\">\n",
       "      <th></th>\n",
       "      <th>country</th>\n",
       "      <th>population</th>\n",
       "    </tr>\n",
       "  </thead>\n",
       "  <tbody>\n",
       "    <tr>\n",
       "      <th>21</th>\n",
       "      <td>USA</td>\n",
       "      <td>331002651</td>\n",
       "    </tr>\n",
       "    <tr>\n",
       "      <th>29</th>\n",
       "      <td>Brazil</td>\n",
       "      <td>212559417</td>\n",
       "    </tr>\n",
       "    <tr>\n",
       "      <th>26</th>\n",
       "      <td>Japan</td>\n",
       "      <td>126476461</td>\n",
       "    </tr>\n",
       "    <tr>\n",
       "      <th>16</th>\n",
       "      <td>Germany</td>\n",
       "      <td>83783942</td>\n",
       "    </tr>\n",
       "    <tr>\n",
       "      <th>0</th>\n",
       "      <td>United Kingdom</td>\n",
       "      <td>67886011</td>\n",
       "    </tr>\n",
       "    <tr>\n",
       "      <th>15</th>\n",
       "      <td>France</td>\n",
       "      <td>65273511</td>\n",
       "    </tr>\n",
       "  </tbody>\n",
       "</table>\n",
       "</div>"
      ],
      "text/plain": [
       "           country  population\n",
       "21             USA   331002651\n",
       "29          Brazil   212559417\n",
       "26           Japan   126476461\n",
       "16         Germany    83783942\n",
       "0   United Kingdom    67886011\n",
       "15          France    65273511"
      ]
     },
     "execution_count": 63,
     "metadata": {},
     "output_type": "execute_result"
    }
   ],
   "source": [
    "country_ds = pd.DataFrame()\n",
    "country_ds['country'] = list(countries_data.keys())\n",
    "country_ds['population'] = list(countries_data.values())\n",
    "country_ds_filtered = country_ds.sort_values(by=['population'], ascending=False)[:6]\n",
    "country_ds_filtered"
   ]
  },
  {
   "cell_type": "code",
   "execution_count": 81,
   "metadata": {},
   "outputs": [],
   "source": [
    "count = 0\n",
    "width = 0\n",
    "height = 0\n",
    "row_break = 3\n",
    "block_width = 1098\n",
    "block_height = 367\n",
    "#filePrefix = \"product_amount_\"\n",
    "#path = \"C:/Users/Gabriel Ullmann/Documents/TCC/analyse_results/product_amount_by_categ/\"\n",
    "filePrefix = \"rating_amount_\"\n",
    "path = r\"C:\\Users\\Gabriel Ullmann\\Documents\\TCC\\analyse_results\\rating_amount_by_categ\\/\"\n",
    "calc_height = block_height * (len(country_ds_filtered['country'].values)/row_break)\n",
    "new_im = Image.new('RGB', (block_width, int(calc_height)))\n",
    "\n",
    "for elem in country_ds_filtered['country'].values:\n",
    "  im = Image.open(path + filePrefix + elem + \".png\")\n",
    "  new_im.paste(im, (width, height))\n",
    "  width += im.size[0]\n",
    "  if count == row_break - 1:\n",
    "    count = 0\n",
    "    width = 0\n",
    "    height += block_height\n",
    "  else:\n",
    "    count += 1\n",
    "    \n",
    "new_im.save('temp_img/' + filePrefix + '1.png')"
   ]
  },
  {
   "cell_type": "code",
   "execution_count": 66,
   "metadata": {},
   "outputs": [
    {
     "data": {
      "text/plain": [
       "1098"
      ]
     },
     "execution_count": 66,
     "metadata": {},
     "output_type": "execute_result"
    }
   ],
   "source": [
    "366 * 3"
   ]
  },
  {
   "cell_type": "code",
   "execution_count": null,
   "metadata": {},
   "outputs": [],
   "source": []
  }
 ],
 "metadata": {
  "kernelspec": {
   "display_name": "Python 3",
   "language": "python",
   "name": "python3"
  },
  "language_info": {
   "codemirror_mode": {
    "name": "ipython",
    "version": 3
   },
   "file_extension": ".py",
   "mimetype": "text/x-python",
   "name": "python",
   "nbconvert_exporter": "python",
   "pygments_lexer": "ipython3",
   "version": "3.8.3"
  }
 },
 "nbformat": 4,
 "nbformat_minor": 4
}
