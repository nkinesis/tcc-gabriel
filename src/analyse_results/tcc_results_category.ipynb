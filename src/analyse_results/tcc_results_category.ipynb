{
 "cells": [
  {
   "cell_type": "code",
   "execution_count": null,
   "metadata": {},
   "outputs": [],
   "source": [
    "import seaborn as sns\n",
    "import pandas as pd\n",
    "import numpy as np\n",
    "import matplotlib.pyplot as plt\n",
    "from sklearn.preprocessing import OrdinalEncoder\n",
    "from mpl_toolkits.mplot3d import Axes3D"
   ]
  },
  {
   "cell_type": "markdown",
   "metadata": {},
   "source": [
    "## Variáveis globais"
   ]
  },
  {
   "cell_type": "code",
   "execution_count": null,
   "metadata": {},
   "outputs": [],
   "source": [
    "category_field = \"client_id\""
   ]
  },
  {
   "cell_type": "markdown",
   "metadata": {},
   "source": [
    "## Análise por categoria"
   ]
  },
  {
   "cell_type": "code",
   "execution_count": 152,
   "metadata": {},
   "outputs": [
    {
     "data": {
      "text/html": [
       "<div>\n",
       "<style scoped>\n",
       "    .dataframe tbody tr th:only-of-type {\n",
       "        vertical-align: middle;\n",
       "    }\n",
       "\n",
       "    .dataframe tbody tr th {\n",
       "        vertical-align: top;\n",
       "    }\n",
       "\n",
       "    .dataframe thead th {\n",
       "        text-align: right;\n",
       "    }\n",
       "</style>\n",
       "<table border=\"1\" class=\"dataframe\">\n",
       "  <thead>\n",
       "    <tr style=\"text-align: right;\">\n",
       "      <th></th>\n",
       "      <th>orderId</th>\n",
       "      <th>product_id</th>\n",
       "      <th>desc</th>\n",
       "      <th>avgQty</th>\n",
       "      <th>month</th>\n",
       "      <th>price</th>\n",
       "      <th>clientId</th>\n",
       "      <th>country</th>\n",
       "    </tr>\n",
       "  </thead>\n",
       "  <tbody>\n",
       "    <tr>\n",
       "      <th>0</th>\n",
       "      <td>536365</td>\n",
       "      <td>3249.0</td>\n",
       "      <td>WHITE HANGING HEART T-LIGHT HOLDER</td>\n",
       "      <td>6</td>\n",
       "      <td>12/1/10 8:26</td>\n",
       "      <td>2,55</td>\n",
       "      <td>4048.0</td>\n",
       "      <td>United Kingdom</td>\n",
       "    </tr>\n",
       "    <tr>\n",
       "      <th>1</th>\n",
       "      <td>536365</td>\n",
       "      <td>2649.0</td>\n",
       "      <td>WHITE METAL LANTERN</td>\n",
       "      <td>6</td>\n",
       "      <td>12/1/10 8:26</td>\n",
       "      <td>3,39</td>\n",
       "      <td>4048.0</td>\n",
       "      <td>United Kingdom</td>\n",
       "    </tr>\n",
       "    <tr>\n",
       "      <th>2</th>\n",
       "      <td>536365</td>\n",
       "      <td>2855.0</td>\n",
       "      <td>CREAM CUPID HEARTS COAT HANGER</td>\n",
       "      <td>8</td>\n",
       "      <td>12/1/10 8:26</td>\n",
       "      <td>2,75</td>\n",
       "      <td>4048.0</td>\n",
       "      <td>United Kingdom</td>\n",
       "    </tr>\n",
       "    <tr>\n",
       "      <th>3</th>\n",
       "      <td>536365</td>\n",
       "      <td>2803.0</td>\n",
       "      <td>KNITTED UNION FLAG HOT WATER BOTTLE</td>\n",
       "      <td>6</td>\n",
       "      <td>12/1/10 8:26</td>\n",
       "      <td>3,39</td>\n",
       "      <td>4048.0</td>\n",
       "      <td>United Kingdom</td>\n",
       "    </tr>\n",
       "    <tr>\n",
       "      <th>4</th>\n",
       "      <td>536365</td>\n",
       "      <td>2802.0</td>\n",
       "      <td>RED WOOLLY HOTTIE WHITE HEART.</td>\n",
       "      <td>6</td>\n",
       "      <td>12/1/10 8:26</td>\n",
       "      <td>3,39</td>\n",
       "      <td>4048.0</td>\n",
       "      <td>United Kingdom</td>\n",
       "    </tr>\n",
       "  </tbody>\n",
       "</table>\n",
       "</div>"
      ],
      "text/plain": [
       "  orderId  product_id                                 desc  avgQty  \\\n",
       "0  536365      3249.0   WHITE HANGING HEART T-LIGHT HOLDER       6   \n",
       "1  536365      2649.0                  WHITE METAL LANTERN       6   \n",
       "2  536365      2855.0       CREAM CUPID HEARTS COAT HANGER       8   \n",
       "3  536365      2803.0  KNITTED UNION FLAG HOT WATER BOTTLE       6   \n",
       "4  536365      2802.0       RED WOOLLY HOTTIE WHITE HEART.       6   \n",
       "\n",
       "          month price  clientId         country  \n",
       "0  12/1/10 8:26  2,55    4048.0  United Kingdom  \n",
       "1  12/1/10 8:26  3,39    4048.0  United Kingdom  \n",
       "2  12/1/10 8:26  2,75    4048.0  United Kingdom  \n",
       "3  12/1/10 8:26  3,39    4048.0  United Kingdom  \n",
       "4  12/1/10 8:26  3,39    4048.0  United Kingdom  "
      ]
     },
     "execution_count": 152,
     "metadata": {},
     "output_type": "execute_result"
    }
   ],
   "source": [
    "base_ds = pd.read_csv(r\"C:\\laragon\\www\\tcc-gabriel\\data\\uci-online-retail-source\\online_retail.csv\", sep=\",\")\n",
    "base_ds = base_ds.dropna()\n",
    "encoder = OrdinalEncoder()\n",
    "encoded_clients = encoder.fit_transform(\n",
    "    base_ds['clientId'].values.reshape(-1, 1))\n",
    "encoded_prods = encoder.fit_transform(\n",
    "    base_ds['product_id'].values.reshape(-1, 1))\n",
    "base_ds['clientId'] = encoded_clients\n",
    "base_ds['product_id'] = encoded_prods\n",
    "base_ds[:5]"
   ]
  },
  {
   "cell_type": "code",
   "execution_count": null,
   "metadata": {},
   "outputs": [],
   "source": [
    "processed_amounts_ds = pd.read_csv(r\"C:\\Users\\Gabriel Ullmann\\Desktop\\all_tcc_results\\online_retail1\\best-seller\\online_retail_g_amounts.csv\", sep=\",\")\n",
    "processed_amounts_ds[:5]"
   ]
  },
  {
   "cell_type": "code",
   "execution_count": null,
   "metadata": {},
   "outputs": [],
   "source": [
    "processed_ds = pd.read_csv(r\"C:\\Users\\Gabriel Ullmann\\Desktop\\all_tcc_results\\online_retail1\\categ-cf\\c_cbr.csv\", sep=\",\")\n",
    "processed_ds[:5]"
   ]
  },
  {
   "cell_type": "code",
   "execution_count": null,
   "metadata": {},
   "outputs": [],
   "source": [
    "categories = pd.read_csv(r\"C:\\Users\\Gabriel Ullmann\\Desktop\\all_tcc_results\\online_retail1\\categ-cf\\best_selling_by_client.csv\", sep=\",\")\n",
    "categories = categories['country'].unique()\n",
    "categories"
   ]
  },
  {
   "cell_type": "code",
   "execution_count": null,
   "metadata": {},
   "outputs": [],
   "source": [
    "filtered_by_categ = []\n",
    "col_clis = {}\n",
    "for category in categories:\n",
    "    filtered_by_categ = base_ds[(base_ds.country == category)]\n",
    "    col_clis[category] = [];\n",
    "    for row in filtered_by_categ.values:\n",
    "        col_clis[category].append(int(row[6]))\n"
   ]
  },
  {
   "cell_type": "code",
   "execution_count": null,
   "metadata": {},
   "outputs": [],
   "source": [
    "for category in categories:\n",
    "    col_clis[category] = set(col_clis[category])\n",
    "len(col_clis)"
   ]
  },
  {
   "cell_type": "code",
   "execution_count": null,
   "metadata": {},
   "outputs": [],
   "source": [
    "def buildFilter(col_clis, dsname, fieldname, keyname):\n",
    "    filterStr = \"(\"\n",
    "    ds_field = fieldname\n",
    "    ccl = len(col_clis[keyname])\n",
    "    count = 1\n",
    "    for cli in col_clis[keyname]:\n",
    "        filterStr += ds_field + \"==\" + str(cli)\n",
    "        if count < ccl:\n",
    "            filterStr += \") | (\"\n",
    "        count += 1\n",
    "    filterStr += \")\"\n",
    "    return filterStr"
   ]
  },
  {
   "cell_type": "code",
   "execution_count": 137,
   "metadata": {},
   "outputs": [
    {
     "name": "stdout",
     "output_type": "stream",
     "text": [
      "Saved: United Kingdom | Saved: Iceland | Saved: Finland | Saved: Italy | Saved: Norway | Saved: Bahrain | Saved: Spain | Saved: Portugal | Saved: Switzerland | Saved: Austria | Saved: Cyprus | Saved: Belgium | Saved: Unspecified | Saved: Denmark | Saved: Australia | Saved: France | Saved: Germany | Saved: RSA | Saved: Greece | Saved: Sweden | Saved: Israel | Saved: USA | Saved: Saudi Arabia | Saved: Poland | Saved: United Arab Emirates | Saved: Singapore | Saved: Japan | Saved: Netherlands | Saved: Lebanon | Saved: Brazil | Saved: Czech Republic | Saved: EIRE | Saved: Channel Islands | Saved: European Community | Saved: Lithuania | Saved: Canada | Saved: Malta | "
     ]
    }
   ],
   "source": [
    "for category in categories:\n",
    "    npd = processed_ds[processed_ds[category_field].isin(col_clis[category])]\n",
    "    sns_plot = sns.displot(npd[\"rating\"], kind=\"kde\").set(title=category)\n",
    "    sns_plot.savefig(\"temp_img/ratings_\" + category + \".png\")\n",
    "    print(\"Saved: \" + category + \" | \", end=\"\", flush=True)\n",
    "    plt.close()"
   ]
  },
  {
   "cell_type": "code",
   "execution_count": 148,
   "metadata": {},
   "outputs": [
    {
     "name": "stdout",
     "output_type": "stream",
     "text": [
      "Saved: United Kingdom | Saved: Iceland | Saved: Finland | Saved: Italy | Saved: Norway | Saved: Bahrain | Saved: Spain | Saved: Portugal | Saved: Switzerland | Saved: Austria | Saved: Cyprus | Saved: Belgium | Saved: Unspecified | Saved: Denmark | Saved: Australia | Saved: France | Saved: Germany | Saved: RSA | Saved: Greece | Saved: Sweden | Saved: Israel | Saved: USA | Saved: Saudi Arabia | Saved: Poland | Saved: United Arab Emirates | Saved: Singapore | Saved: Japan | Saved: Netherlands | Saved: Lebanon | Saved: Brazil | Saved: Czech Republic | Saved: EIRE | Saved: Channel Islands | Saved: European Community | Saved: Lithuania | Saved: Canada | Saved: Malta | "
     ]
    }
   ],
   "source": [
    "for category in categories:\n",
    "    npd = processed_amounts_ds[processed_amounts_ds[category_field].isin(col_clis[category])]\n",
    "    sns_plot = sns.displot(npd[\"amount\"], kde=False).set(title=category)\n",
    "    plt.xlim(0, 500)\n",
    "    sns_plot.savefig(\"temp_img/sales_volume_\" + category + \".png\")\n",
    "    print(\"Saved: \" + category + \" | \", end=\"\", flush=True)\n",
    "    plt.close()"
   ]
  },
  {
   "cell_type": "code",
   "execution_count": 135,
   "metadata": {},
   "outputs": [
    {
     "name": "stdout",
     "output_type": "stream",
     "text": [
      "Saved: United Kingdom | Saved: Iceland | Saved: Finland | Saved: Italy | Saved: Norway | Saved: Bahrain | Saved: Spain | Saved: Portugal | Saved: Switzerland | Saved: Austria | Saved: Cyprus | Saved: Belgium | Saved: Unspecified | Saved: Denmark | Saved: Australia | Saved: France | Saved: Germany | Saved: RSA | Saved: Greece | Saved: Sweden | Saved: Israel | Saved: USA | Saved: Saudi Arabia | Saved: Poland | Saved: United Arab Emirates | Saved: Singapore | Saved: Japan | Saved: Netherlands | Saved: Lebanon | Saved: Brazil | Saved: Czech Republic | Saved: EIRE | Saved: Channel Islands | Saved: European Community | Saved: Lithuania | Saved: Canada | Saved: Malta | "
     ]
    }
   ],
   "source": [
    "for category in categories:\n",
    "    npd = processed_amounts_ds[processed_amounts_ds[category_field].isin(col_clis[category])]\n",
    "    sns_plot = sns.lmplot(x=\"product_id\", y=\"amount\", data=npd, fit_reg=False).set(title=category)\n",
    "    sns_plot.savefig(\"temp_img/product_amount_\" + category + \".png\")\n",
    "    print(\"Saved: \" + category + \" | \", end=\"\", flush=True)\n",
    "    plt.close()"
   ]
  },
  {
   "cell_type": "code",
   "execution_count": 160,
   "metadata": {},
   "outputs": [
    {
     "name": "stdout",
     "output_type": "stream",
     "text": [
      "Saved: United Kingdom | Saved: Iceland | Saved: Finland | Saved: Italy | Saved: Norway | Saved: Bahrain | Saved: Spain | Saved: Portugal | Saved: Switzerland | Saved: Austria | Saved: Cyprus | Saved: Belgium | Saved: Unspecified | Saved: Denmark | Saved: Australia | Saved: France | Saved: Germany | Saved: RSA | Saved: Greece | Saved: Sweden | Saved: Israel | Saved: USA | Saved: Saudi Arabia | Saved: Poland | Saved: United Arab Emirates | Saved: Singapore | Saved: Japan | Saved: Netherlands | Saved: Lebanon | Saved: Brazil | Saved: Czech Republic | Saved: EIRE | Saved: Channel Islands | Saved: European Community | Saved: Lithuania | Saved: Canada | Saved: Malta | "
     ]
    }
   ],
   "source": [
    "for category in categories:\n",
    "    npd = processed_amounts_ds[processed_amounts_ds[category_field].isin(col_clis[category])]\n",
    "    sns_plot = sns.lmplot(x=\"rating\", y=\"amount\", data=npd, fit_reg=False).set(title=category)\n",
    "    sns_plot.savefig(\"temp_img/rating_amount_\" + category + \".png\")\n",
    "    print(\"Saved: \" + category + \" | \", end=\"\", flush=True)\n",
    "    plt.close()"
   ]
  },
  {
   "cell_type": "markdown",
   "metadata": {},
   "source": [
    "## Analisando produtos mais comuns em um intervalo\n",
    "Conforme análise 2, categorias"
   ]
  },
  {
   "cell_type": "code",
   "execution_count": 157,
   "metadata": {},
   "outputs": [
    {
     "data": {
      "text/plain": [
       "1088"
      ]
     },
     "execution_count": 157,
     "metadata": {},
     "output_type": "execute_result"
    }
   ],
   "source": [
    "un_prod = base_ds[(base_ds.product_id >= 1000) & (base_ds.product_id <= 2000)]['desc'].unique()\n",
    "len(un_prod)"
   ]
  },
  {
   "cell_type": "code",
   "execution_count": 161,
   "metadata": {},
   "outputs": [
    {
     "data": {
      "text/plain": [
       "array(['SET 7 BABUSHKA NESTING BOXES', 'HAND WARMER UNION JACK',\n",
       "       'HAND WARMER RED POLKA DOT', \"POPPY'S PLAYHOUSE BEDROOM \",\n",
       "       \"POPPY'S PLAYHOUSE KITCHEN\"], dtype=object)"
      ]
     },
     "execution_count": 161,
     "metadata": {},
     "output_type": "execute_result"
    }
   ],
   "source": [
    "un_prod[:5]"
   ]
  },
  {
   "cell_type": "code",
   "execution_count": null,
   "metadata": {},
   "outputs": [],
   "source": []
  }
 ],
 "metadata": {
  "kernelspec": {
   "display_name": "Python 3",
   "language": "python",
   "name": "python3"
  },
  "language_info": {
   "codemirror_mode": {
    "name": "ipython",
    "version": 3
   },
   "file_extension": ".py",
   "mimetype": "text/x-python",
   "name": "python",
   "nbconvert_exporter": "python",
   "pygments_lexer": "ipython3",
   "version": "3.8.3"
  }
 },
 "nbformat": 4,
 "nbformat_minor": 4
}
