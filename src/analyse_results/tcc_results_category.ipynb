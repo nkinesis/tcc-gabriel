{
 "cells": [
  {
   "cell_type": "code",
   "execution_count": 1,
   "metadata": {},
   "outputs": [],
   "source": [
    "import seaborn as sns\n",
    "import pandas as pd\n",
    "import numpy as np\n",
    "import matplotlib.pyplot as plt\n",
    "from sklearn.preprocessing import OrdinalEncoder\n",
    "from mpl_toolkits.mplot3d import Axes3D"
   ]
  },
  {
   "cell_type": "markdown",
   "metadata": {},
   "source": [
    "## Variáveis globais"
   ]
  },
  {
   "cell_type": "code",
   "execution_count": 27,
   "metadata": {},
   "outputs": [],
   "source": [
    "category_field = \"client_id\"\n",
    "paths_or1 = [r\"C:\\Users\\ullma\\Documents\\TCC\\tcc-gabriel\\data\\uci-online-retail-source\\online_retail.csv\",\n",
    "             r\"C:\\Users\\ullma\\Desktop\\all_tcc_results\\online_retail1\\best-seller\\online_retail_g_amounts.csv\",\n",
    "             r\"C:\\Users\\ullma\\Desktop\\all_tcc_results\\online_retail1\\categ-cf\\c_cbr.csv\",\n",
    "             r\"C:\\Users\\ullma\\Desktop\\all_tcc_results\\online_retail1\\categ-cf\\best_selling_by_client.csv\"]\n",
    "\n",
    "paths_or2 = [r\"C:\\Users\\ullma\\Documents\\TCC\\tcc-gabriel\\data\\uci-online-retail-2\\online_retail_II.csv\",\n",
    "             r\"C:\\Users\\ullma\\Desktop\\all_tcc_results\\online_retail2\\best-seller\\online_retail2_g_amounts.csv\",\n",
    "             r\"C:\\Users\\ullma\\Desktop\\all_tcc_results\\online_retail2\\categ-cf\\c_cbr.csv\",\n",
    "             r\"C:\\Users\\ullma\\Desktop\\all_tcc_results\\online_retail2\\categ-cf\\best_selling_by_country.csv\"]\n",
    "\n",
    "paths_olist = [r\"C:\\Users\\ullma\\Documents\\TCC\\tcc-gabriel\\data\\olist-processed\\olist_processed.csv\", \n",
    "               r\"C:\\Users\\ullma\\Desktop\\all_tcc_results\\opa.csv\",\n",
    "               r\"C:\\Users\\ullma\\Desktop\\all_tcc_results\\olist\\categ-cf\\c_cbr.csv\",\n",
    "               r\"C:\\Users\\ullma\\Desktop\\all_tcc_results\\olist\\categ-cf\\best_selling_by_country.csv\"]\n",
    "\n",
    "ds_list = {\"or1\": paths_or1, \"or2\": paths_or2, \"olist\": paths_olist}\n",
    "\n",
    "ds_selected = \"olist\""
   ]
  },
  {
   "cell_type": "code",
   "execution_count": 28,
   "metadata": {},
   "outputs": [],
   "source": [
    "def getLabelName(name):\n",
    "    try:\n",
    "        names = {\n",
    "            \"United Kingdom\": \"Reino Unido\",\n",
    "            \"Brazil\": \"Brasil\",\n",
    "            \"USA\": \"EUA\",\n",
    "            \"France\": \"França\",\n",
    "            \"Germany\": \"Alemanha\",\n",
    "            \"Japan\": \"Japão\",\n",
    "            \"RS\": \"Rio Grande do Sul\",\n",
    "            \"SP\": \"São Paulo\",\n",
    "            \"RJ\": \"Rio de Janeiro\",\n",
    "            \"MG\": \"Minas Gerais\",\n",
    "            \"BA\": \"Bahia\",\n",
    "            \"PR\": \"Paraná\",\n",
    "        }\n",
    "        return names[name]\n",
    "    except KeyError:\n",
    "        return name"
   ]
  },
  {
   "cell_type": "markdown",
   "metadata": {},
   "source": [
    "## Análise por categoria"
   ]
  },
  {
   "cell_type": "code",
   "execution_count": 29,
   "metadata": {},
   "outputs": [
    {
     "name": "stdout",
     "output_type": "stream",
     "text": [
      "112650\n"
     ]
    },
    {
     "data": {
      "text/html": [
       "<div>\n",
       "<style scoped>\n",
       "    .dataframe tbody tr th:only-of-type {\n",
       "        vertical-align: middle;\n",
       "    }\n",
       "\n",
       "    .dataframe tbody tr th {\n",
       "        vertical-align: top;\n",
       "    }\n",
       "\n",
       "    .dataframe thead th {\n",
       "        text-align: right;\n",
       "    }\n",
       "</style>\n",
       "<table border=\"1\" class=\"dataframe\">\n",
       "  <thead>\n",
       "    <tr style=\"text-align: right;\">\n",
       "      <th></th>\n",
       "      <th>clientId</th>\n",
       "      <th>country</th>\n",
       "      <th>product_id</th>\n",
       "    </tr>\n",
       "  </thead>\n",
       "  <tbody>\n",
       "    <tr>\n",
       "      <th>0</th>\n",
       "      <td>50398.0</td>\n",
       "      <td>RJ</td>\n",
       "      <td>8361.0</td>\n",
       "    </tr>\n",
       "    <tr>\n",
       "      <th>1</th>\n",
       "      <td>87747.0</td>\n",
       "      <td>SP</td>\n",
       "      <td>28636.0</td>\n",
       "    </tr>\n",
       "    <tr>\n",
       "      <th>2</th>\n",
       "      <td>21004.0</td>\n",
       "      <td>MG</td>\n",
       "      <td>24819.0</td>\n",
       "    </tr>\n",
       "    <tr>\n",
       "      <th>3</th>\n",
       "      <td>65566.0</td>\n",
       "      <td>SP</td>\n",
       "      <td>14831.0</td>\n",
       "    </tr>\n",
       "    <tr>\n",
       "      <th>4</th>\n",
       "      <td>37639.0</td>\n",
       "      <td>SP</td>\n",
       "      <td>21360.0</td>\n",
       "    </tr>\n",
       "  </tbody>\n",
       "</table>\n",
       "</div>"
      ],
      "text/plain": [
       "   clientId country  product_id\n",
       "0   50398.0      RJ      8361.0\n",
       "1   87747.0      SP     28636.0\n",
       "2   21004.0      MG     24819.0\n",
       "3   65566.0      SP     14831.0\n",
       "4   37639.0      SP     21360.0"
      ]
     },
     "execution_count": 29,
     "metadata": {},
     "output_type": "execute_result"
    }
   ],
   "source": [
    "base_ds = pd.read_csv(ds_list[ds_selected][0], sep=\",\")\n",
    "print(len(base_ds))\n",
    "base_ds = base_ds.dropna()\n",
    "encoder = OrdinalEncoder()\n",
    "encoded_clients = encoder.fit_transform(\n",
    "    base_ds['clientId'].values.reshape(-1, 1))\n",
    "encoded_prods = encoder.fit_transform(\n",
    "    base_ds['product_id'].values.reshape(-1, 1))\n",
    "base_ds['clientId'] = encoded_clients\n",
    "base_ds['product_id'] = encoded_prods\n",
    "base_ds[:5]"
   ]
  },
  {
   "cell_type": "code",
   "execution_count": 30,
   "metadata": {},
   "outputs": [
    {
     "data": {
      "text/html": [
       "<div>\n",
       "<style scoped>\n",
       "    .dataframe tbody tr th:only-of-type {\n",
       "        vertical-align: middle;\n",
       "    }\n",
       "\n",
       "    .dataframe tbody tr th {\n",
       "        vertical-align: top;\n",
       "    }\n",
       "\n",
       "    .dataframe thead th {\n",
       "        text-align: right;\n",
       "    }\n",
       "</style>\n",
       "<table border=\"1\" class=\"dataframe\">\n",
       "  <thead>\n",
       "    <tr style=\"text-align: right;\">\n",
       "      <th></th>\n",
       "      <th>client_id</th>\n",
       "      <th>product_id</th>\n",
       "      <th>rating</th>\n",
       "      <th>amount</th>\n",
       "    </tr>\n",
       "  </thead>\n",
       "  <tbody>\n",
       "    <tr>\n",
       "      <th>0</th>\n",
       "      <td>0</td>\n",
       "      <td>6940</td>\n",
       "      <td>1</td>\n",
       "      <td>31</td>\n",
       "    </tr>\n",
       "    <tr>\n",
       "      <th>1</th>\n",
       "      <td>1</td>\n",
       "      <td>10124</td>\n",
       "      <td>1</td>\n",
       "      <td>7</td>\n",
       "    </tr>\n",
       "    <tr>\n",
       "      <th>2</th>\n",
       "      <td>2</td>\n",
       "      <td>12581</td>\n",
       "      <td>1</td>\n",
       "      <td>5</td>\n",
       "    </tr>\n",
       "    <tr>\n",
       "      <th>3</th>\n",
       "      <td>3</td>\n",
       "      <td>4543</td>\n",
       "      <td>1</td>\n",
       "      <td>3</td>\n",
       "    </tr>\n",
       "    <tr>\n",
       "      <th>4</th>\n",
       "      <td>4</td>\n",
       "      <td>24781</td>\n",
       "      <td>1</td>\n",
       "      <td>1</td>\n",
       "    </tr>\n",
       "  </tbody>\n",
       "</table>\n",
       "</div>"
      ],
      "text/plain": [
       "   client_id  product_id  rating  amount\n",
       "0          0        6940       1      31\n",
       "1          1       10124       1       7\n",
       "2          2       12581       1       5\n",
       "3          3        4543       1       3\n",
       "4          4       24781       1       1"
      ]
     },
     "execution_count": 30,
     "metadata": {},
     "output_type": "execute_result"
    }
   ],
   "source": [
    "processed_amounts_ds = pd.read_csv(ds_list[ds_selected][1], sep=\",\")\n",
    "processed_amounts_ds[:5]"
   ]
  },
  {
   "cell_type": "code",
   "execution_count": 31,
   "metadata": {},
   "outputs": [
    {
     "data": {
      "text/html": [
       "<div>\n",
       "<style scoped>\n",
       "    .dataframe tbody tr th:only-of-type {\n",
       "        vertical-align: middle;\n",
       "    }\n",
       "\n",
       "    .dataframe tbody tr th {\n",
       "        vertical-align: top;\n",
       "    }\n",
       "\n",
       "    .dataframe thead th {\n",
       "        text-align: right;\n",
       "    }\n",
       "</style>\n",
       "<table border=\"1\" class=\"dataframe\">\n",
       "  <thead>\n",
       "    <tr style=\"text-align: right;\">\n",
       "      <th></th>\n",
       "      <th>client_id</th>\n",
       "      <th>product_id</th>\n",
       "      <th>rating</th>\n",
       "    </tr>\n",
       "  </thead>\n",
       "  <tbody>\n",
       "    <tr>\n",
       "      <th>0</th>\n",
       "      <td>0</td>\n",
       "      <td>6940</td>\n",
       "      <td>1</td>\n",
       "    </tr>\n",
       "    <tr>\n",
       "      <th>1</th>\n",
       "      <td>1</td>\n",
       "      <td>10124</td>\n",
       "      <td>1</td>\n",
       "    </tr>\n",
       "    <tr>\n",
       "      <th>2</th>\n",
       "      <td>2</td>\n",
       "      <td>12581</td>\n",
       "      <td>1</td>\n",
       "    </tr>\n",
       "    <tr>\n",
       "      <th>3</th>\n",
       "      <td>3</td>\n",
       "      <td>4543</td>\n",
       "      <td>1</td>\n",
       "    </tr>\n",
       "    <tr>\n",
       "      <th>4</th>\n",
       "      <td>4</td>\n",
       "      <td>24781</td>\n",
       "      <td>1</td>\n",
       "    </tr>\n",
       "  </tbody>\n",
       "</table>\n",
       "</div>"
      ],
      "text/plain": [
       "   client_id  product_id  rating\n",
       "0          0        6940       1\n",
       "1          1       10124       1\n",
       "2          2       12581       1\n",
       "3          3        4543       1\n",
       "4          4       24781       1"
      ]
     },
     "execution_count": 31,
     "metadata": {},
     "output_type": "execute_result"
    }
   ],
   "source": [
    "processed_ds = pd.read_csv(ds_list[ds_selected][2], sep=\",\")\n",
    "processed_ds[:5]"
   ]
  },
  {
   "cell_type": "code",
   "execution_count": 32,
   "metadata": {},
   "outputs": [
    {
     "data": {
      "text/plain": [
       "array(['AC', 'AL', 'AM', 'AP', 'BA', 'CE', 'DF', 'ES', 'GO', 'MA', 'MG',\n",
       "       'MS', 'MT', 'PA', 'PB', 'PE', 'PI', 'PR', 'RJ', 'RN', 'RO', 'RR',\n",
       "       'RS', 'SC', 'SE', 'SP', 'TO'], dtype=object)"
      ]
     },
     "execution_count": 32,
     "metadata": {},
     "output_type": "execute_result"
    }
   ],
   "source": [
    "categories = pd.read_csv(ds_list[ds_selected][3], sep=\",\")\n",
    "categories = categories['country'].unique()\n",
    "categories"
   ]
  },
  {
   "cell_type": "code",
   "execution_count": 33,
   "metadata": {},
   "outputs": [],
   "source": [
    "filtered_by_categ = []\n",
    "col_clis = {}\n",
    "for category in categories:\n",
    "    filtered_by_categ = base_ds[(base_ds.country == category)]\n",
    "    col_clis[category] = [];\n",
    "    #print(filtered_by_categ)\n",
    "    for row in filtered_by_categ.values:\n",
    "        #print(row)\n",
    "        if ds_selected == \"olist\":\n",
    "            col_clis[category].append(int(row[0]))\n",
    "        else:\n",
    "            col_clis[category].append(int(row[6]))"
   ]
  },
  {
   "cell_type": "code",
   "execution_count": 34,
   "metadata": {},
   "outputs": [
    {
     "data": {
      "text/plain": [
       "27"
      ]
     },
     "execution_count": 34,
     "metadata": {},
     "output_type": "execute_result"
    }
   ],
   "source": [
    "for category in categories:\n",
    "    col_clis[category] = set(col_clis[category])\n",
    "len(col_clis)"
   ]
  },
  {
   "cell_type": "code",
   "execution_count": 35,
   "metadata": {},
   "outputs": [],
   "source": [
    "def buildFilter(col_clis, dsname, fieldname, keyname):\n",
    "    filterStr = \"(\"\n",
    "    ds_field = fieldname\n",
    "    ccl = len(col_clis[keyname])\n",
    "    count = 1\n",
    "    for cli in col_clis[keyname]:\n",
    "        filterStr += ds_field + \"==\" + str(cli)\n",
    "        if count < ccl:\n",
    "            filterStr += \") | (\"\n",
    "        count += 1\n",
    "    filterStr += \")\"\n",
    "    return filterStr"
   ]
  },
  {
   "cell_type": "code",
   "execution_count": 36,
   "metadata": {},
   "outputs": [
    {
     "name": "stdout",
     "output_type": "stream",
     "text": [
      "Saved: AC | Saved: AL | Saved: AM | Saved: AP | Saved: BA | Saved: CE | Saved: DF | Saved: ES | Saved: GO | Saved: MA | Saved: MG | Saved: MS | Saved: MT | Saved: PA | Saved: PB | Saved: PE | Saved: PI | Saved: PR | Saved: RJ | Saved: RN | Saved: RO | Saved: RR | Saved: RS | Saved: SC | Saved: SE | Saved: SP | Saved: TO | "
     ]
    }
   ],
   "source": [
    "for category in categories:\n",
    "    npd = processed_ds[processed_ds[category_field].isin(col_clis[category])]\n",
    "    sns_plot = sns.displot(npd[\"rating\"], kind=\"kde\")\n",
    "    sns_plot.set(title=getLabelName(category))\n",
    "    sns_plot.set_axis_labels('Avaliação', 'Densidade')\n",
    "    sns_plot.savefig(\"temp_img/ratings_\" + category + \".png\")\n",
    "    print(\"Saved: \" + category + \" | \", end=\"\", flush=True)\n",
    "    plt.close()"
   ]
  },
  {
   "cell_type": "code",
   "execution_count": 26,
   "metadata": {},
   "outputs": [
    {
     "name": "stdout",
     "output_type": "stream",
     "text": [
      "1      862\n",
      "2      210\n",
      "3      172\n",
      "4      146\n",
      "5      120\n",
      "      ... \n",
      "500      1\n",
      "400      1\n",
      "166      1\n",
      "134      1\n",
      "610      1\n",
      "Name: amount, Length: 138, dtype: int64\n"
     ]
    }
   ],
   "source": [
    "for category in categories:\n",
    "    npd = processed_amounts_ds[processed_amounts_ds[category_field].isin(col_clis[category])]\n",
    "\n",
    "    #plt.xlim(0, 1300)\n",
    "    #plt.ylim(1, 1000000)\n",
    "    #plt.yscale(\"log\")\n",
    "\n",
    "    plt.xlabel('Frequência de pedidos')\n",
    "    plt.ylabel('Contagem')\n",
    "    sns_plot = sns.histplot(npd[\"amount\"], kde=False, stat=\"count\") #bins=12\n",
    "    sns_plot.set(title=getLabelName(category))\n",
    "    plt.savefig(\"temp_img/sales_volume_\" + category + \".png\")\n",
    "    print(\"Saved: \" + category + \" | \", end=\"\", flush=True)\n",
    "    plt.close()"
   ]
  },
  {
   "cell_type": "code",
   "execution_count": 25,
   "metadata": {},
   "outputs": [
    {
     "name": "stdout",
     "output_type": "stream",
     "text": [
      "Saved: United Kingdom | Saved: Iceland | Saved: Finland | Saved: Italy | Saved: Norway | Saved: Bahrain | Saved: Spain | Saved: Portugal | Saved: Switzerland | Saved: Austria | Saved: Cyprus | Saved: Belgium | Saved: Unspecified | Saved: Denmark | Saved: Australia | Saved: France | Saved: Germany | Saved: RSA | Saved: Greece | Saved: Sweden | Saved: Israel | Saved: USA | Saved: Saudi Arabia | Saved: Poland | Saved: United Arab Emirates | Saved: Singapore | Saved: Japan | Saved: Netherlands | Saved: Lebanon | Saved: Brazil | Saved: Czech Republic | Saved: EIRE | Saved: Channel Islands | Saved: European Community | Saved: Lithuania | Saved: Canada | Saved: Malta | "
     ]
    }
   ],
   "source": [
    "for category in categories:\n",
    "    npd = processed_amounts_ds[processed_amounts_ds[category_field].isin(col_clis[category])]\n",
    "    sns_plot = sns.lmplot(x=\"product_id\", y=\"amount\", data=npd, fit_reg=False)\n",
    "    sns_plot.set(title=getLabelName(category))\n",
    "    sns_plot.set_axis_labels('ID Produto', 'Frequência de pedidos')\n",
    "    sns_plot.savefig(\"temp_img/product_amount_\" + category + \".png\")\n",
    "    print(\"Saved: \" + category + \" | \", end=\"\", flush=True)\n",
    "    plt.close()"
   ]
  },
  {
   "cell_type": "code",
   "execution_count": 37,
   "metadata": {},
   "outputs": [
    {
     "name": "stdout",
     "output_type": "stream",
     "text": [
      "Saved: AC | Saved: AL | Saved: AM | Saved: AP | Saved: BA | Saved: CE | Saved: DF | Saved: ES | Saved: GO | Saved: MA | Saved: MG | Saved: MS | Saved: MT | Saved: PA | Saved: PB | Saved: PE | Saved: PI | Saved: PR | Saved: RJ | Saved: RN | Saved: RO | Saved: RR | Saved: RS | Saved: SC | Saved: SE | Saved: SP | Saved: TO | "
     ]
    }
   ],
   "source": [
    "for category in categories:\n",
    "    npd = processed_amounts_ds[processed_amounts_ds[category_field].isin(col_clis[category])]\n",
    "    sns_plot = sns.lmplot(x=\"rating\", y=\"amount\", data=npd, fit_reg=False)\n",
    "    sns_plot.set(title=getLabelName(category))\n",
    "    sns_plot.set_axis_labels('Avaliação', 'Frequência de pedidos')\n",
    "    sns_plot.savefig(\"temp_img/rating_amount_\" + category + \".png\")\n",
    "    print(\"Saved: \" + category + \" | \", end=\"\", flush=True)\n",
    "    plt.close()"
   ]
  },
  {
   "cell_type": "code",
   "execution_count": 61,
   "metadata": {},
   "outputs": [
    {
     "name": "stdout",
     "output_type": "stream",
     "text": [
      "Saved: Australia | Saved: Austria | Saved: Bahrain | Saved: Belgium | Saved: Bermuda | Saved: Brazil | Saved: Canada | Saved: Channel Islands | Saved: Cyprus | Saved: Czech Republic | Saved: Denmark | Saved: EIRE | Saved: European Community | Saved: Finland | Saved: France | Saved: Germany | Saved: Greece | Saved: Hong Kong | Saved: Iceland | Saved: Israel | Saved: Italy | Saved: Japan | Saved: Korea | Saved: Lebanon | Saved: Lithuania | Saved: Malta | Saved: Netherlands | Saved: Nigeria | Saved: Norway | Saved: Poland | Saved: Portugal | Saved: RSA | Saved: Saudi Arabia | Saved: Singapore | Saved: Spain | Saved: Sweden | Saved: Switzerland | Saved: Thailand | Saved: USA | Saved: United Arab Emirates | Saved: United Kingdom | Saved: Unspecified | Saved: West Indies | "
     ]
    }
   ],
   "source": [
    "for category in categories:\n",
    "    npd = processed_amounts_ds[processed_amounts_ds[category_field].isin(col_clis[category])]\n",
    "    fig = plt.figure()\n",
    "    ax = fig.add_subplot(111, projection='3d')\n",
    "    ax.scatter(npd['product_id'], npd['amount'], npd['rating'], c='navy', s=60)\n",
    "    ax.view_init(15, 230)\n",
    "\n",
    "    ax.set_title(getLabelName(category))\n",
    "    ax.set_xlabel('ID Produto', labelpad=10)\n",
    "    ax.set_ylabel('Frequência', labelpad=10)\n",
    "    ax.set_zlabel('Avaliação')\n",
    "\n",
    "    plt.tight_layout()\n",
    "    for label in ax.get_yaxis().get_ticklabels()[::2]:\n",
    "        label.set_visible(False)\n",
    "        \n",
    "    for label in ax.get_xaxis().get_ticklabels()[::2]:\n",
    "        label.set_visible(False)\n",
    "        \n",
    "    plt.savefig(\"temp_img/disp3d2_\" + category + \".png\")\n",
    "    print(\"Saved: \" + category + \" | \", end=\"\", flush=True)\n",
    "    plt.close()"
   ]
  },
  {
   "cell_type": "markdown",
   "metadata": {},
   "source": [
    "## Analisando produtos mais comuns em um intervalo\n",
    "Conforme análise 2, categorias"
   ]
  },
  {
   "cell_type": "code",
   "execution_count": 157,
   "metadata": {},
   "outputs": [
    {
     "data": {
      "text/plain": [
       "1088"
      ]
     },
     "execution_count": 157,
     "metadata": {},
     "output_type": "execute_result"
    }
   ],
   "source": [
    "un_prod = base_ds[(base_ds.product_id >= 1000) & (base_ds.product_id <= 2000)]['desc'].unique()\n",
    "len(un_prod)"
   ]
  },
  {
   "cell_type": "code",
   "execution_count": 161,
   "metadata": {},
   "outputs": [
    {
     "data": {
      "text/plain": [
       "array(['SET 7 BABUSHKA NESTING BOXES', 'HAND WARMER UNION JACK',\n",
       "       'HAND WARMER RED POLKA DOT', \"POPPY'S PLAYHOUSE BEDROOM \",\n",
       "       \"POPPY'S PLAYHOUSE KITCHEN\"], dtype=object)"
      ]
     },
     "execution_count": 161,
     "metadata": {},
     "output_type": "execute_result"
    }
   ],
   "source": [
    "un_prod[:5]"
   ]
  },
  {
   "cell_type": "code",
   "execution_count": null,
   "metadata": {},
   "outputs": [],
   "source": []
  }
 ],
 "metadata": {
  "kernelspec": {
   "display_name": "Python 3",
   "language": "python",
   "name": "python3"
  },
  "language_info": {
   "codemirror_mode": {
    "name": "ipython",
    "version": 3
   },
   "file_extension": ".py",
   "mimetype": "text/x-python",
   "name": "python",
   "nbconvert_exporter": "python",
   "pygments_lexer": "ipython3",
   "version": "3.7.9"
  }
 },
 "nbformat": 4,
 "nbformat_minor": 4
}
