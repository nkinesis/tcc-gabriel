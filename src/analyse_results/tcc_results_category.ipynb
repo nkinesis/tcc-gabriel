{
 "cells": [
  {
   "cell_type": "code",
   "execution_count": 2,
   "metadata": {},
   "outputs": [],
   "source": [
    "import seaborn as sns\n",
    "import pandas as pd\n",
    "import numpy as np\n",
    "import matplotlib.pyplot as plt\n",
    "from sklearn.preprocessing import OrdinalEncoder\n",
    "from mpl_toolkits.mplot3d import Axes3D"
   ]
  },
  {
   "cell_type": "markdown",
   "metadata": {},
   "source": [
    "## Variáveis globais"
   ]
  },
  {
   "cell_type": "code",
   "execution_count": 15,
   "metadata": {},
   "outputs": [],
   "source": [
    "category_field = \"client_id\"\n",
    "paths_or1 = [r\"C:\\laragon\\www\\tcc-gabriel\\data\\uci-online-retail-source\\online_retail.csv\",\n",
    "             r\"C:\\Users\\Gabriel Ullmann\\Desktop\\all_tcc_results\\online_retail1\\best-seller\\online_retail_g_amounts.csv\",\n",
    "             r\"C:\\Users\\Gabriel Ullmann\\Desktop\\all_tcc_results\\online_retail1\\categ-cf\\c_cbr.csv\",\n",
    "             r\"C:\\Users\\Gabriel Ullmann\\Desktop\\all_tcc_results\\online_retail1\\categ-cf\\best_selling_by_client.csv\"]\n",
    "\n",
    "paths_or2 = [r\"C:\\laragon\\www\\tcc-gabriel\\data\\uci-online-retail-2\\online_retail_II.csv\",\n",
    "             r\"C:\\Users\\Gabriel Ullmann\\Desktop\\all_tcc_results\\online_retail2\\best-seller\\online_retail2_g_amounts.csv\",\n",
    "             r\"C:\\Users\\Gabriel Ullmann\\Desktop\\all_tcc_results\\online_retail2\\categ-cf\\c_cbr.csv\",\n",
    "             r\"C:\\Users\\Gabriel Ullmann\\Desktop\\all_tcc_results\\online_retail2\\categ-cf\\best_selling_by_country.csv\"]\n",
    "\n",
    "paths_olist = [r\"C:\\laragon\\www\\tcc-gabriel\\data\\olist-processed\\olist_processed.csv\", \n",
    "               r\"C:\\Users\\Gabriel Ullmann\\Desktop\\all_tcc_results\\olist\\best-seller\\olist_g_amounts.csv\",\n",
    "               r\"C:\\Users\\Gabriel Ullmann\\Desktop\\all_tcc_results\\olist\\categ-cf\\c_cbr.csv\",\n",
    "               r\"C:\\Users\\Gabriel Ullmann\\Desktop\\all_tcc_results\\olist\\categ-cf\\best_selling_by_country.csv\"]\n",
    "\n",
    "ds_list = {\"or1\": paths_or1, \"or2\": paths_or2, \"olist\": paths_olist}\n",
    "\n",
    "ds_selected = \"or2\""
   ]
  },
  {
   "cell_type": "code",
   "execution_count": 16,
   "metadata": {},
   "outputs": [],
   "source": [
    "def getLabelName(name):\n",
    "    try:\n",
    "        names = {\n",
    "            \"United Kingdom\": \"Reino Unido\",\n",
    "            \"Brazil\": \"Brasil\",\n",
    "            \"USA\": \"EUA\",\n",
    "            \"France\": \"França\",\n",
    "            \"Germany\": \"Alemanha\",\n",
    "            \"Japan\": \"Japão\",\n",
    "            \"RS\": \"Rio Grande do Sul\",\n",
    "            \"SP\": \"São Paulo\",\n",
    "            \"RJ\": \"Rio de Janeiro\",\n",
    "            \"MG\": \"Minas Gerais\",\n",
    "            \"BA\": \"Bahia\",\n",
    "            \"PR\": \"Paraná\",\n",
    "        }\n",
    "        return names[name]\n",
    "    except KeyError:\n",
    "        return name"
   ]
  },
  {
   "cell_type": "markdown",
   "metadata": {},
   "source": [
    "## Análise por categoria"
   ]
  },
  {
   "cell_type": "code",
   "execution_count": 17,
   "metadata": {},
   "outputs": [
    {
     "name": "stdout",
     "output_type": "stream",
     "text": [
      "1067371\n"
     ]
    },
    {
     "data": {
      "text/html": [
       "<div>\n",
       "<style scoped>\n",
       "    .dataframe tbody tr th:only-of-type {\n",
       "        vertical-align: middle;\n",
       "    }\n",
       "\n",
       "    .dataframe tbody tr th {\n",
       "        vertical-align: top;\n",
       "    }\n",
       "\n",
       "    .dataframe thead th {\n",
       "        text-align: right;\n",
       "    }\n",
       "</style>\n",
       "<table border=\"1\" class=\"dataframe\">\n",
       "  <thead>\n",
       "    <tr style=\"text-align: right;\">\n",
       "      <th></th>\n",
       "      <th>orderId</th>\n",
       "      <th>product_id</th>\n",
       "      <th>desc</th>\n",
       "      <th>avgQty</th>\n",
       "      <th>month</th>\n",
       "      <th>price</th>\n",
       "      <th>clientId</th>\n",
       "      <th>country</th>\n",
       "    </tr>\n",
       "  </thead>\n",
       "  <tbody>\n",
       "    <tr>\n",
       "      <th>0</th>\n",
       "      <td>489434</td>\n",
       "      <td>4022.0</td>\n",
       "      <td>15CM CHRISTMAS GLASS BALL 20 LIGHTS</td>\n",
       "      <td>12</td>\n",
       "      <td>12/1/2009 7:45</td>\n",
       "      <td>6.95</td>\n",
       "      <td>739.0</td>\n",
       "      <td>United Kingdom</td>\n",
       "    </tr>\n",
       "    <tr>\n",
       "      <th>1</th>\n",
       "      <td>489434</td>\n",
       "      <td>3337.0</td>\n",
       "      <td>PINK CHERRY LIGHTS</td>\n",
       "      <td>12</td>\n",
       "      <td>12/1/2009 7:45</td>\n",
       "      <td>6.75</td>\n",
       "      <td>739.0</td>\n",
       "      <td>United Kingdom</td>\n",
       "    </tr>\n",
       "    <tr>\n",
       "      <th>2</th>\n",
       "      <td>489434</td>\n",
       "      <td>3339.0</td>\n",
       "      <td>WHITE CHERRY LIGHTS</td>\n",
       "      <td>12</td>\n",
       "      <td>12/1/2009 7:45</td>\n",
       "      <td>6.75</td>\n",
       "      <td>739.0</td>\n",
       "      <td>United Kingdom</td>\n",
       "    </tr>\n",
       "    <tr>\n",
       "      <th>3</th>\n",
       "      <td>489434</td>\n",
       "      <td>1261.0</td>\n",
       "      <td>RECORD FRAME 7\" SINGLE SIZE</td>\n",
       "      <td>48</td>\n",
       "      <td>12/1/2009 7:45</td>\n",
       "      <td>2.10</td>\n",
       "      <td>739.0</td>\n",
       "      <td>United Kingdom</td>\n",
       "    </tr>\n",
       "    <tr>\n",
       "      <th>4</th>\n",
       "      <td>489434</td>\n",
       "      <td>620.0</td>\n",
       "      <td>STRAWBERRY CERAMIC TRINKET BOX</td>\n",
       "      <td>24</td>\n",
       "      <td>12/1/2009 7:45</td>\n",
       "      <td>1.25</td>\n",
       "      <td>739.0</td>\n",
       "      <td>United Kingdom</td>\n",
       "    </tr>\n",
       "  </tbody>\n",
       "</table>\n",
       "</div>"
      ],
      "text/plain": [
       "  orderId  product_id                                 desc  avgQty  \\\n",
       "0  489434      4022.0  15CM CHRISTMAS GLASS BALL 20 LIGHTS      12   \n",
       "1  489434      3337.0                   PINK CHERRY LIGHTS      12   \n",
       "2  489434      3339.0                  WHITE CHERRY LIGHTS      12   \n",
       "3  489434      1261.0         RECORD FRAME 7\" SINGLE SIZE       48   \n",
       "4  489434       620.0       STRAWBERRY CERAMIC TRINKET BOX      24   \n",
       "\n",
       "            month  price  clientId         country  \n",
       "0  12/1/2009 7:45   6.95     739.0  United Kingdom  \n",
       "1  12/1/2009 7:45   6.75     739.0  United Kingdom  \n",
       "2  12/1/2009 7:45   6.75     739.0  United Kingdom  \n",
       "3  12/1/2009 7:45   2.10     739.0  United Kingdom  \n",
       "4  12/1/2009 7:45   1.25     739.0  United Kingdom  "
      ]
     },
     "execution_count": 17,
     "metadata": {},
     "output_type": "execute_result"
    }
   ],
   "source": [
    "base_ds = pd.read_csv(ds_list[ds_selected][0], sep=\",\")\n",
    "print(len(base_ds))\n",
    "base_ds = base_ds.dropna()\n",
    "encoder = OrdinalEncoder()\n",
    "encoded_clients = encoder.fit_transform(\n",
    "    base_ds['clientId'].values.reshape(-1, 1))\n",
    "encoded_prods = encoder.fit_transform(\n",
    "    base_ds['product_id'].values.reshape(-1, 1))\n",
    "base_ds['clientId'] = encoded_clients\n",
    "base_ds['product_id'] = encoded_prods\n",
    "base_ds[:5]"
   ]
  },
  {
   "cell_type": "code",
   "execution_count": 18,
   "metadata": {},
   "outputs": [
    {
     "data": {
      "text/html": [
       "<div>\n",
       "<style scoped>\n",
       "    .dataframe tbody tr th:only-of-type {\n",
       "        vertical-align: middle;\n",
       "    }\n",
       "\n",
       "    .dataframe tbody tr th {\n",
       "        vertical-align: top;\n",
       "    }\n",
       "\n",
       "    .dataframe thead th {\n",
       "        text-align: right;\n",
       "    }\n",
       "</style>\n",
       "<table border=\"1\" class=\"dataframe\">\n",
       "  <thead>\n",
       "    <tr style=\"text-align: right;\">\n",
       "      <th></th>\n",
       "      <th>client_id</th>\n",
       "      <th>product_id</th>\n",
       "      <th>rating</th>\n",
       "      <th>amount</th>\n",
       "    </tr>\n",
       "  </thead>\n",
       "  <tbody>\n",
       "    <tr>\n",
       "      <th>0</th>\n",
       "      <td>0</td>\n",
       "      <td>5286</td>\n",
       "      <td>1</td>\n",
       "      <td>1446</td>\n",
       "    </tr>\n",
       "    <tr>\n",
       "      <th>1</th>\n",
       "      <td>0</td>\n",
       "      <td>4615</td>\n",
       "      <td>2</td>\n",
       "      <td>4216</td>\n",
       "    </tr>\n",
       "    <tr>\n",
       "      <th>2</th>\n",
       "      <td>0</td>\n",
       "      <td>1755</td>\n",
       "      <td>2</td>\n",
       "      <td>4424</td>\n",
       "    </tr>\n",
       "    <tr>\n",
       "      <th>3</th>\n",
       "      <td>0</td>\n",
       "      <td>693</td>\n",
       "      <td>2</td>\n",
       "      <td>3318</td>\n",
       "    </tr>\n",
       "    <tr>\n",
       "      <th>4</th>\n",
       "      <td>0</td>\n",
       "      <td>1336</td>\n",
       "      <td>1</td>\n",
       "      <td>2434</td>\n",
       "    </tr>\n",
       "  </tbody>\n",
       "</table>\n",
       "</div>"
      ],
      "text/plain": [
       "   client_id  product_id  rating  amount\n",
       "0          0        5286       1    1446\n",
       "1          0        4615       2    4216\n",
       "2          0        1755       2    4424\n",
       "3          0         693       2    3318\n",
       "4          0        1336       1    2434"
      ]
     },
     "execution_count": 18,
     "metadata": {},
     "output_type": "execute_result"
    }
   ],
   "source": [
    "processed_amounts_ds = pd.read_csv(ds_list[ds_selected][1], sep=\",\")\n",
    "processed_amounts_ds[:5]"
   ]
  },
  {
   "cell_type": "code",
   "execution_count": 19,
   "metadata": {},
   "outputs": [
    {
     "data": {
      "text/html": [
       "<div>\n",
       "<style scoped>\n",
       "    .dataframe tbody tr th:only-of-type {\n",
       "        vertical-align: middle;\n",
       "    }\n",
       "\n",
       "    .dataframe tbody tr th {\n",
       "        vertical-align: top;\n",
       "    }\n",
       "\n",
       "    .dataframe thead th {\n",
       "        text-align: right;\n",
       "    }\n",
       "</style>\n",
       "<table border=\"1\" class=\"dataframe\">\n",
       "  <thead>\n",
       "    <tr style=\"text-align: right;\">\n",
       "      <th></th>\n",
       "      <th>client_id</th>\n",
       "      <th>product_id</th>\n",
       "      <th>rating</th>\n",
       "    </tr>\n",
       "  </thead>\n",
       "  <tbody>\n",
       "    <tr>\n",
       "      <th>0</th>\n",
       "      <td>0</td>\n",
       "      <td>5286</td>\n",
       "      <td>1</td>\n",
       "    </tr>\n",
       "    <tr>\n",
       "      <th>1</th>\n",
       "      <td>0</td>\n",
       "      <td>4615</td>\n",
       "      <td>2</td>\n",
       "    </tr>\n",
       "    <tr>\n",
       "      <th>2</th>\n",
       "      <td>0</td>\n",
       "      <td>1755</td>\n",
       "      <td>2</td>\n",
       "    </tr>\n",
       "    <tr>\n",
       "      <th>3</th>\n",
       "      <td>0</td>\n",
       "      <td>693</td>\n",
       "      <td>2</td>\n",
       "    </tr>\n",
       "    <tr>\n",
       "      <th>4</th>\n",
       "      <td>0</td>\n",
       "      <td>1336</td>\n",
       "      <td>1</td>\n",
       "    </tr>\n",
       "  </tbody>\n",
       "</table>\n",
       "</div>"
      ],
      "text/plain": [
       "   client_id  product_id  rating\n",
       "0          0        5286       1\n",
       "1          0        4615       2\n",
       "2          0        1755       2\n",
       "3          0         693       2\n",
       "4          0        1336       1"
      ]
     },
     "execution_count": 19,
     "metadata": {},
     "output_type": "execute_result"
    }
   ],
   "source": [
    "processed_ds = pd.read_csv(ds_list[ds_selected][2], sep=\",\")\n",
    "processed_ds[:5]"
   ]
  },
  {
   "cell_type": "code",
   "execution_count": 20,
   "metadata": {},
   "outputs": [
    {
     "data": {
      "text/plain": [
       "array(['Australia', 'Austria', 'Bahrain', 'Belgium', 'Bermuda', 'Brazil',\n",
       "       'Canada', 'Channel Islands', 'Cyprus', 'Czech Republic', 'Denmark',\n",
       "       'EIRE', 'European Community', 'Finland', 'France', 'Germany',\n",
       "       'Greece', 'Hong Kong', 'Iceland', 'Israel', 'Italy', 'Japan',\n",
       "       'Korea', 'Lebanon', 'Lithuania', 'Malta', 'Netherlands', 'Nigeria',\n",
       "       'Norway', 'Poland', 'Portugal', 'RSA', 'Saudi Arabia', 'Singapore',\n",
       "       'Spain', 'Sweden', 'Switzerland', 'Thailand', 'USA',\n",
       "       'United Arab Emirates', 'United Kingdom', 'Unspecified',\n",
       "       'West Indies'], dtype=object)"
      ]
     },
     "execution_count": 20,
     "metadata": {},
     "output_type": "execute_result"
    }
   ],
   "source": [
    "categories = pd.read_csv(ds_list[ds_selected][3], sep=\",\")\n",
    "categories = categories['country'].unique()\n",
    "categories"
   ]
  },
  {
   "cell_type": "code",
   "execution_count": 21,
   "metadata": {},
   "outputs": [],
   "source": [
    "filtered_by_categ = []\n",
    "col_clis = {}\n",
    "for category in categories:\n",
    "    filtered_by_categ = base_ds[(base_ds.country == category)]\n",
    "    col_clis[category] = [];\n",
    "    #print(filtered_by_categ)\n",
    "    for row in filtered_by_categ.values:\n",
    "        #print(row)\n",
    "        if ds_selected == \"olist\":\n",
    "            col_clis[category].append(int(row[0]))\n",
    "        else:\n",
    "            col_clis[category].append(int(row[6]))"
   ]
  },
  {
   "cell_type": "code",
   "execution_count": 22,
   "metadata": {},
   "outputs": [
    {
     "data": {
      "text/plain": [
       "43"
      ]
     },
     "execution_count": 22,
     "metadata": {},
     "output_type": "execute_result"
    }
   ],
   "source": [
    "for category in categories:\n",
    "    col_clis[category] = set(col_clis[category])\n",
    "len(col_clis)"
   ]
  },
  {
   "cell_type": "code",
   "execution_count": 23,
   "metadata": {},
   "outputs": [],
   "source": [
    "def buildFilter(col_clis, dsname, fieldname, keyname):\n",
    "    filterStr = \"(\"\n",
    "    ds_field = fieldname\n",
    "    ccl = len(col_clis[keyname])\n",
    "    count = 1\n",
    "    for cli in col_clis[keyname]:\n",
    "        filterStr += ds_field + \"==\" + str(cli)\n",
    "        if count < ccl:\n",
    "            filterStr += \") | (\"\n",
    "        count += 1\n",
    "    filterStr += \")\"\n",
    "    return filterStr"
   ]
  },
  {
   "cell_type": "code",
   "execution_count": 57,
   "metadata": {},
   "outputs": [
    {
     "name": "stdout",
     "output_type": "stream",
     "text": [
      "Saved: Australia | Saved: Austria | Saved: Bahrain | Saved: Belgium | Saved: Bermuda | Saved: Brazil | Saved: Canada | Saved: Channel Islands | Saved: Cyprus | Saved: Czech Republic | Saved: Denmark | Saved: EIRE | Saved: European Community | Saved: Finland | Saved: France | Saved: Germany | Saved: Greece | Saved: Hong Kong | Saved: Iceland | Saved: Israel | Saved: Italy | Saved: Japan | Saved: Korea | Saved: Lebanon | Saved: Lithuania | Saved: Malta | Saved: Netherlands | Saved: Nigeria | Saved: Norway | Saved: Poland | Saved: Portugal | Saved: RSA | Saved: Saudi Arabia | Saved: Singapore | Saved: Spain | Saved: Sweden | Saved: Switzerland | Saved: Thailand | Saved: USA | Saved: United Arab Emirates | Saved: United Kingdom | Saved: Unspecified | Saved: West Indies | "
     ]
    }
   ],
   "source": [
    "for category in categories:\n",
    "    npd = processed_ds[processed_ds[category_field].isin(col_clis[category])]\n",
    "    sns_plot = sns.displot(npd[\"rating\"], kind=\"kde\")\n",
    "    sns_plot.set(title=getLabelName(category))\n",
    "    sns_plot.set_axis_labels('Avaliação', 'Densidade')\n",
    "    sns_plot.savefig(\"temp_img/ratings_\" + category + \".png\")\n",
    "    print(\"Saved: \" + category + \" | \", end=\"\", flush=True)\n",
    "    plt.close()"
   ]
  },
  {
   "cell_type": "code",
   "execution_count": 26,
   "metadata": {},
   "outputs": [
    {
     "name": "stdout",
     "output_type": "stream",
     "text": [
      "1      862\n",
      "2      210\n",
      "3      172\n",
      "4      146\n",
      "5      120\n",
      "      ... \n",
      "500      1\n",
      "400      1\n",
      "166      1\n",
      "134      1\n",
      "610      1\n",
      "Name: amount, Length: 138, dtype: int64\n"
     ]
    }
   ],
   "source": [
    "for category in categories:\n",
    "    npd = processed_amounts_ds[processed_amounts_ds[category_field].isin(col_clis[category])]\n",
    "\n",
    "    #plt.xlim(0, 1300)\n",
    "    #plt.ylim(1, 1000000)\n",
    "    #plt.yscale(\"log\")\n",
    "\n",
    "    plt.xlabel('Frequência de pedidos')\n",
    "    plt.ylabel('Contagem')\n",
    "    sns_plot = sns.histplot(npd[\"amount\"], kde=False, stat=\"count\") #bins=12\n",
    "    sns_plot.set(title=getLabelName(category))\n",
    "    plt.savefig(\"temp_img/sales_volume_\" + category + \".png\")\n",
    "    print(\"Saved: \" + category + \" | \", end=\"\", flush=True)\n",
    "    plt.close()"
   ]
  },
  {
   "cell_type": "code",
   "execution_count": 25,
   "metadata": {},
   "outputs": [
    {
     "name": "stdout",
     "output_type": "stream",
     "text": [
      "Saved: United Kingdom | Saved: Iceland | Saved: Finland | Saved: Italy | Saved: Norway | Saved: Bahrain | Saved: Spain | Saved: Portugal | Saved: Switzerland | Saved: Austria | Saved: Cyprus | Saved: Belgium | Saved: Unspecified | Saved: Denmark | Saved: Australia | Saved: France | Saved: Germany | Saved: RSA | Saved: Greece | Saved: Sweden | Saved: Israel | Saved: USA | Saved: Saudi Arabia | Saved: Poland | Saved: United Arab Emirates | Saved: Singapore | Saved: Japan | Saved: Netherlands | Saved: Lebanon | Saved: Brazil | Saved: Czech Republic | Saved: EIRE | Saved: Channel Islands | Saved: European Community | Saved: Lithuania | Saved: Canada | Saved: Malta | "
     ]
    }
   ],
   "source": [
    "for category in categories:\n",
    "    npd = processed_amounts_ds[processed_amounts_ds[category_field].isin(col_clis[category])]\n",
    "    sns_plot = sns.lmplot(x=\"product_id\", y=\"amount\", data=npd, fit_reg=False)\n",
    "    sns_plot.set(title=getLabelName(category))\n",
    "    sns_plot.set_axis_labels('ID Produto', 'Frequência de pedidos')\n",
    "    sns_plot.savefig(\"temp_img/product_amount_\" + category + \".png\")\n",
    "    print(\"Saved: \" + category + \" | \", end=\"\", flush=True)\n",
    "    plt.close()"
   ]
  },
  {
   "cell_type": "code",
   "execution_count": 60,
   "metadata": {},
   "outputs": [
    {
     "name": "stdout",
     "output_type": "stream",
     "text": [
      "Saved: Australia | Saved: Austria | Saved: Bahrain | Saved: Belgium | Saved: Bermuda | Saved: Brazil | Saved: Canada | Saved: Channel Islands | Saved: Cyprus | Saved: Czech Republic | Saved: Denmark | Saved: EIRE | Saved: European Community | Saved: Finland | Saved: France | Saved: Germany | Saved: Greece | Saved: Hong Kong | Saved: Iceland | Saved: Israel | Saved: Italy | Saved: Japan | Saved: Korea | Saved: Lebanon | Saved: Lithuania | Saved: Malta | Saved: Netherlands | Saved: Nigeria | Saved: Norway | Saved: Poland | Saved: Portugal | Saved: RSA | Saved: Saudi Arabia | Saved: Singapore | Saved: Spain | Saved: Sweden | Saved: Switzerland | Saved: Thailand | Saved: USA | Saved: United Arab Emirates | Saved: United Kingdom | Saved: Unspecified | Saved: West Indies | "
     ]
    }
   ],
   "source": [
    "for category in categories:\n",
    "    npd = processed_amounts_ds[processed_amounts_ds[category_field].isin(col_clis[category])]\n",
    "    sns_plot = sns.lmplot(x=\"rating\", y=\"amount\", data=npd, fit_reg=False)\n",
    "    sns_plot.set(title=getLabelName(category))\n",
    "    sns_plot.set_axis_labels('Avaliação', 'Frequência de pedidos')\n",
    "    sns_plot.savefig(\"temp_img/rating_amount_\" + category + \".png\")\n",
    "    print(\"Saved: \" + category + \" | \", end=\"\", flush=True)\n",
    "    plt.close()"
   ]
  },
  {
   "cell_type": "code",
   "execution_count": 61,
   "metadata": {},
   "outputs": [
    {
     "name": "stdout",
     "output_type": "stream",
     "text": [
      "Saved: Australia | Saved: Austria | Saved: Bahrain | Saved: Belgium | Saved: Bermuda | Saved: Brazil | Saved: Canada | Saved: Channel Islands | Saved: Cyprus | Saved: Czech Republic | Saved: Denmark | Saved: EIRE | Saved: European Community | Saved: Finland | Saved: France | Saved: Germany | Saved: Greece | Saved: Hong Kong | Saved: Iceland | Saved: Israel | Saved: Italy | Saved: Japan | Saved: Korea | Saved: Lebanon | Saved: Lithuania | Saved: Malta | Saved: Netherlands | Saved: Nigeria | Saved: Norway | Saved: Poland | Saved: Portugal | Saved: RSA | Saved: Saudi Arabia | Saved: Singapore | Saved: Spain | Saved: Sweden | Saved: Switzerland | Saved: Thailand | Saved: USA | Saved: United Arab Emirates | Saved: United Kingdom | Saved: Unspecified | Saved: West Indies | "
     ]
    }
   ],
   "source": [
    "for category in categories:\n",
    "    npd = processed_amounts_ds[processed_amounts_ds[category_field].isin(col_clis[category])]\n",
    "    fig = plt.figure()\n",
    "    ax = fig.add_subplot(111, projection='3d')\n",
    "    ax.scatter(npd['product_id'], npd['amount'], npd['rating'], c='navy', s=60)\n",
    "    ax.view_init(15, 230)\n",
    "\n",
    "    ax.set_title(getLabelName(category))\n",
    "    ax.set_xlabel('ID Produto', labelpad=10)\n",
    "    ax.set_ylabel('Frequência', labelpad=10)\n",
    "    ax.set_zlabel('Avaliação')\n",
    "\n",
    "    plt.tight_layout()\n",
    "    for label in ax.get_yaxis().get_ticklabels()[::2]:\n",
    "        label.set_visible(False)\n",
    "        \n",
    "    for label in ax.get_xaxis().get_ticklabels()[::2]:\n",
    "        label.set_visible(False)\n",
    "        \n",
    "    plt.savefig(\"temp_img/disp3d2_\" + category + \".png\")\n",
    "    print(\"Saved: \" + category + \" | \", end=\"\", flush=True)\n",
    "    plt.close()"
   ]
  },
  {
   "cell_type": "markdown",
   "metadata": {},
   "source": [
    "## Analisando produtos mais comuns em um intervalo\n",
    "Conforme análise 2, categorias"
   ]
  },
  {
   "cell_type": "code",
   "execution_count": 157,
   "metadata": {},
   "outputs": [
    {
     "data": {
      "text/plain": [
       "1088"
      ]
     },
     "execution_count": 157,
     "metadata": {},
     "output_type": "execute_result"
    }
   ],
   "source": [
    "un_prod = base_ds[(base_ds.product_id >= 1000) & (base_ds.product_id <= 2000)]['desc'].unique()\n",
    "len(un_prod)"
   ]
  },
  {
   "cell_type": "code",
   "execution_count": 161,
   "metadata": {},
   "outputs": [
    {
     "data": {
      "text/plain": [
       "array(['SET 7 BABUSHKA NESTING BOXES', 'HAND WARMER UNION JACK',\n",
       "       'HAND WARMER RED POLKA DOT', \"POPPY'S PLAYHOUSE BEDROOM \",\n",
       "       \"POPPY'S PLAYHOUSE KITCHEN\"], dtype=object)"
      ]
     },
     "execution_count": 161,
     "metadata": {},
     "output_type": "execute_result"
    }
   ],
   "source": [
    "un_prod[:5]"
   ]
  },
  {
   "cell_type": "code",
   "execution_count": null,
   "metadata": {},
   "outputs": [],
   "source": []
  }
 ],
 "metadata": {
  "kernelspec": {
   "display_name": "Python 3",
   "language": "python",
   "name": "python3"
  },
  "language_info": {
   "codemirror_mode": {
    "name": "ipython",
    "version": 3
   },
   "file_extension": ".py",
   "mimetype": "text/x-python",
   "name": "python",
   "nbconvert_exporter": "python",
   "pygments_lexer": "ipython3",
   "version": "3.8.3"
  }
 },
 "nbformat": 4,
 "nbformat_minor": 4
}
