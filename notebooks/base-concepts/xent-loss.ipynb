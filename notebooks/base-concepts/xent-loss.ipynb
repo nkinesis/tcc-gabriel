{
 "cells": [
  {
   "cell_type": "code",
   "execution_count": 1,
   "metadata": {},
   "outputs": [],
   "source": [
    "### Fonte: https://keras.io/api/metrics/probabilistic_metrics/#categoricalcrossentropy-class"
   ]
  },
  {
   "cell_type": "code",
   "execution_count": 47,
   "metadata": {},
   "outputs": [],
   "source": [
    "import numpy as np\n",
    "import pandas as pd\n",
    "import tensorflow as tf"
   ]
  },
  {
   "cell_type": "code",
   "execution_count": 48,
   "metadata": {},
   "outputs": [],
   "source": [
    "# saídas reais, resultados tal e qual deveriam ser\n",
    "y_true = [[0, 1, 0], [0, 0, 1]]"
   ]
  },
  {
   "cell_type": "code",
   "execution_count": 50,
   "metadata": {},
   "outputs": [],
   "source": [
    "# teste 1: saídas prevsitas conforme o exemplo do link\n",
    "# essas saídas devem ser distribuições de probabilidade (soma dos itens = 1)\n",
    "y_pred = [[0.1, 0.8, 0.1], [0.1, 0.1, 0.8]]"
   ]
  },
  {
   "cell_type": "code",
   "execution_count": null,
   "metadata": {},
   "outputs": [],
   "source": [
    "# teste 2: saídas previstas corretamente\n",
    "y_pred = [[0.1, 0.8, 0.1], [0.1, 0.1, 0.8]]"
   ]
  },
  {
   "cell_type": "code",
   "execution_count": 51,
   "metadata": {},
   "outputs": [
    {
     "data": {
      "text/plain": [
       "<tf.Tensor: shape=(2, 3), dtype=float32, numpy=\n",
       "array([[0.1, 0.8, 0.1],\n",
       "       [0.1, 0.1, 0.8]], dtype=float32)>"
      ]
     },
     "execution_count": 51,
     "metadata": {},
     "output_type": "execute_result"
    }
   ],
   "source": [
    "# é preciso normalizar saídas para que não haja zeros\n",
    "# como vamos usar ln e ln de zero é -infinito, isso poderia causar problemas\n",
    "EPSILON = 1e-7\n",
    "y_pred = tf.clip_by_value(y_pred, EPSILON, 1. - EPSILON) \n",
    "y_pred"
   ]
  },
  {
   "cell_type": "code",
   "execution_count": 52,
   "metadata": {},
   "outputs": [],
   "source": [
    "yt = y_true\n",
    "yp = y_pred.numpy()"
   ]
  },
  {
   "cell_type": "code",
   "execution_count": 53,
   "metadata": {},
   "outputs": [],
   "source": [
    "results = []\n",
    "yp_count = 0\n",
    "for arr in yt:\n",
    "    argm = np.argmax(arr, axis=0)\n",
    "    results.append(np.log(yp[yp_count][argm]))\n",
    "    yp_count += 1"
   ]
  },
  {
   "cell_type": "code",
   "execution_count": 54,
   "metadata": {},
   "outputs": [
    {
     "data": {
      "text/plain": [
       "[-0.22314353, -0.22314353]"
      ]
     },
     "execution_count": 54,
     "metadata": {},
     "output_type": "execute_result"
    }
   ],
   "source": [
    "results"
   ]
  },
  {
   "cell_type": "code",
   "execution_count": 55,
   "metadata": {},
   "outputs": [],
   "source": [
    "xent = results\n",
    "reduced_xent = -sum(xent)/len(xent)"
   ]
  },
  {
   "cell_type": "code",
   "execution_count": 56,
   "metadata": {},
   "outputs": [
    {
     "data": {
      "text/plain": [
       "[-0.22314353, -0.22314353]"
      ]
     },
     "execution_count": 56,
     "metadata": {},
     "output_type": "execute_result"
    }
   ],
   "source": [
    "# resultado da cross entropy = array com o ln de todos os valores na distribuição prevista (yp)\n",
    "xent"
   ]
  },
  {
   "cell_type": "code",
   "execution_count": 57,
   "metadata": {},
   "outputs": [
    {
     "data": {
      "text/plain": [
       "0.2231435328722"
      ]
     },
     "execution_count": 57,
     "metadata": {},
     "output_type": "execute_result"
    }
   ],
   "source": [
    "# xent reduzida = média aritmética dos valores nesse array\n",
    "# perda tende a 0 quando as distribuições batem, tende a +infinito quando não batem\n",
    "reduced_xent"
   ]
  }
 ],
 "metadata": {
  "kernelspec": {
   "display_name": "Python 3",
   "language": "python",
   "name": "python3"
  },
  "language_info": {
   "codemirror_mode": {
    "name": "ipython",
    "version": 3
   },
   "file_extension": ".py",
   "mimetype": "text/x-python",
   "name": "python",
   "nbconvert_exporter": "python",
   "pygments_lexer": "ipython3",
   "version": "3.7.6"
  }
 },
 "nbformat": 4,
 "nbformat_minor": 4
}
