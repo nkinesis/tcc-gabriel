{
 "cells": [
  {
   "cell_type": "code",
   "execution_count": 24,
   "metadata": {},
   "outputs": [],
   "source": [
    "from numpy import where\n",
    "from sklearn.datasets import make_classification\n",
    "from matplotlib import pyplot\n",
    "import pandas as pd\n",
    "import numpy as np"
   ]
  },
  {
   "cell_type": "code",
   "execution_count": 38,
   "metadata": {},
   "outputs": [],
   "source": [
    "# define dataset\n",
    "#X, y = make_classification(n_samples=1000, n_features=2, n_informative=2, n_redundant=0, n_clusters_per_class=1, random_state=4)\n",
    "\n",
    "url = 'E:/temp_ml_data/sample_4_clients.csv'\n",
    "data = pd.read_csv(url, delimiter=',')\n",
    "entradas = data.iloc[:,0:2]\n",
    "saidas = data.iloc[:,3:916]\n",
    "X = np.array(entradas)\n",
    "y = np.array(saidas)"
   ]
  },
  {
   "cell_type": "code",
   "execution_count": 46,
   "metadata": {},
   "outputs": [
    {
     "data": {
      "image/png": "[encoded data removed]",
      "text/plain": [
       "<Figure size 432x288 with 1 Axes>"
      ]
     },
     "metadata": {
      "needs_background": "light"
     },
     "output_type": "display_data"
    }
   ],
   "source": [
    "# create scatter plot for samples from each class\n",
    "p = None\n",
    "for class_value in np.unique(saidas):\n",
    "    # get row indexes for samples with this class\n",
    "    row_ix = where(y == class_value)\n",
    "    # create scatter of these samples\n",
    "    p = pyplot.scatter(X[row_ix, 0], X[row_ix, 1])"
   ]
  },
  {
   "cell_type": "code",
   "execution_count": null,
   "metadata": {},
   "outputs": [],
   "source": []
  }
 ],
 "metadata": {
  "kernelspec": {
   "display_name": "Python 3",
   "language": "python",
   "name": "python3"
  },
  "language_info": {
   "codemirror_mode": {
    "name": "ipython",
    "version": 3
   },
   "file_extension": ".py",
   "mimetype": "text/x-python",
   "name": "python",
   "nbconvert_exporter": "python",
   "pygments_lexer": "ipython3",
   "version": "3.7.6"
  }
 },
 "nbformat": 4,
 "nbformat_minor": 4
}
