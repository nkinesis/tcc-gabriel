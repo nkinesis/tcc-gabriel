{
 "cells": [
  {
   "cell_type": "markdown",
   "metadata": {},
   "source": [
    "## Convertendo dataset para formato desejado para o TCC\n",
    "https://archive.ics.uci.edu/ml/datasets/Online+Retail#"
   ]
  },
  {
   "cell_type": "code",
   "execution_count": 39,
   "metadata": {},
   "outputs": [],
   "source": [
    "import re\n",
    "import math\n",
    "import pandas as pd\n",
    "import numpy as np"
   ]
  },
  {
   "cell_type": "markdown",
   "metadata": {},
   "source": [
    "### Carregar CSV como pandas dataframe, remover colunas desnecessárias e reordená-las"
   ]
  },
  {
   "cell_type": "code",
   "execution_count": 40,
   "metadata": {},
   "outputs": [
    {
     "data": {
      "text/html": [
       "<div>\n",
       "<style scoped>\n",
       "    .dataframe tbody tr th:only-of-type {\n",
       "        vertical-align: middle;\n",
       "    }\n",
       "\n",
       "    .dataframe tbody tr th {\n",
       "        vertical-align: top;\n",
       "    }\n",
       "\n",
       "    .dataframe thead th {\n",
       "        text-align: right;\n",
       "    }\n",
       "</style>\n",
       "<table border=\"1\" class=\"dataframe\">\n",
       "  <thead>\n",
       "    <tr style=\"text-align: right;\">\n",
       "      <th></th>\n",
       "      <th>clientId</th>\n",
       "      <th>modeProd</th>\n",
       "      <th>avgQty</th>\n",
       "      <th>month</th>\n",
       "    </tr>\n",
       "  </thead>\n",
       "  <tbody>\n",
       "    <tr>\n",
       "      <th>0</th>\n",
       "      <td>17850.0</td>\n",
       "      <td>85123A</td>\n",
       "      <td>6</td>\n",
       "      <td>12/1/10 8:26</td>\n",
       "    </tr>\n",
       "    <tr>\n",
       "      <th>1</th>\n",
       "      <td>17850.0</td>\n",
       "      <td>71053</td>\n",
       "      <td>6</td>\n",
       "      <td>12/1/10 8:26</td>\n",
       "    </tr>\n",
       "    <tr>\n",
       "      <th>2</th>\n",
       "      <td>17850.0</td>\n",
       "      <td>84406B</td>\n",
       "      <td>8</td>\n",
       "      <td>12/1/10 8:26</td>\n",
       "    </tr>\n",
       "  </tbody>\n",
       "</table>\n",
       "</div>"
      ],
      "text/plain": [
       "   clientId modeProd  avgQty         month\n",
       "0   17850.0   85123A       6  12/1/10 8:26\n",
       "1   17850.0    71053       6  12/1/10 8:26\n",
       "2   17850.0   84406B       8  12/1/10 8:26"
      ]
     },
     "execution_count": 40,
     "metadata": {},
     "output_type": "execute_result"
    }
   ],
   "source": [
    "url = 'E:/temp_ml_data/online_retail.csv'\n",
    "pd_orders = pd.read_csv(url, delimiter=',')\n",
    "del pd_orders['desc']\n",
    "del pd_orders['price']\n",
    "del pd_orders['country']\n",
    "del pd_orders['orderId']\n",
    "pd_orders = pd_orders[['clientId', 'modeProd', 'avgQty', 'month']]\n",
    "pd_orders[:3]"
   ]
  },
  {
   "cell_type": "markdown",
   "metadata": {},
   "source": [
    "### Converter para nparray para formatar data e preencher colunas vazias"
   ]
  },
  {
   "cell_type": "code",
   "execution_count": 54,
   "metadata": {},
   "outputs": [],
   "source": [
    "np_orders = pd_orders.to_numpy()\n",
    "\n",
    "for order in np_orders:\n",
    "    \n",
    "    # se o cód. cliente é vazio, trocar por 1\n",
    "    if (type(order[0]) is not int and type(order[0]) is not float) or math.isnan(order[0]):\n",
    "        order[0] = 1\n",
    "    else:\n",
    "        order[0] = int(order[0])\n",
    "    \n",
    "    # se o cód. produto é vazio, trocar por 1\n",
    "    # remover caracteres não numéricos\n",
    "    if not order[1] or type(order[1]) is not str:\n",
    "        order[1] = 1\n",
    "    else:\n",
    "        order[1] = re.sub(r'\\D', '', order[1])\n",
    "        \n",
    "    # extrair mês da data e manter apenas o mês\n",
    "    if type(order[1]) is not str:\n",
    "        order[3] = 1\n",
    "    else:\n",
    "        parts = order[3].split(\"/\")\n",
    "        if parts:\n",
    "            order[3] = parts[0]"
   ]
  },
  {
   "cell_type": "markdown",
   "metadata": {},
   "source": [
    "### Converter de volta para pandas dataframe para salvar resultado como CSV"
   ]
  },
  {
   "cell_type": "code",
   "execution_count": 59,
   "metadata": {},
   "outputs": [
    {
     "name": "stdout",
     "output_type": "stream",
     "text": [
      "Salvo\n"
     ]
    }
   ],
   "source": [
    "save_path = 'E:/temp_ml_data/out.csv'\n",
    "pd_orders = pd.DataFrame(np_orders, columns=['clientId', 'modeProd', 'avgQty', 'month'])\n",
    "pd_orders = pd_orders.astype('int32')\n",
    "pd_orders.to_csv(save_path, index=False, encoding='utf-8')\n",
    "print(\"Salvo\")"
   ]
  },
  {
   "cell_type": "code",
   "execution_count": null,
   "metadata": {},
   "outputs": [],
   "source": []
  }
 ],
 "metadata": {
  "kernelspec": {
   "display_name": "Python 3",
   "language": "python",
   "name": "python3"
  },
  "language_info": {
   "codemirror_mode": {
    "name": "ipython",
    "version": 3
   },
   "file_extension": ".py",
   "mimetype": "text/x-python",
   "name": "python",
   "nbconvert_exporter": "python",
   "pygments_lexer": "ipython3",
   "version": "3.7.6"
  }
 },
 "nbformat": 4,
 "nbformat_minor": 4
}
