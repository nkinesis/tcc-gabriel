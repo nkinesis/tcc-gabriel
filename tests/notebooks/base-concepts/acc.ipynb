{
 "cells": [
  {
   "cell_type": "code",
   "execution_count": null,
   "metadata": {},
   "outputs": [],
   "source": [
    "# Cálculo accuracy\n",
    "## Fonte: https://keras.io/api/metrics/accuracy_metrics/#accuracy-class"
   ]
  },
  {
   "cell_type": "code",
   "execution_count": null,
   "metadata": {},
   "outputs": [],
   "source": [
    "# simplesmente contar quantas saídas existem, e quantas foram previstas corretamente\n",
    "# métrica é calculada somente em modelso de classificação\n",
    "# em modelos de outros tipos, é melhor olhar para outras métricas, como a perda (loss)\n",
    "# um valor alto de perda siginifica que o previsto/real estão \"destoando\"\n",
    "# fórmula de loss, diferente do acc, checa a proximidade de forma exata e não binária\n",
    "# acc apenas checa de forma \"binária\": foi previsto certo (1) ou não (0)"
   ]
  },
  {
   "cell_type": "code",
   "execution_count": 4,
   "metadata": {},
   "outputs": [],
   "source": [
    "real = [1, 2, 3, 4]\n",
    "predicted = [0, 2, 3, 4]\n",
    "\n",
    "count = 0\n",
    "total = len(real)\n",
    "for value in range(total):\n",
    "    if real[value] == predicted[value]:\n",
    "        count += 1"
   ]
  },
  {
   "cell_type": "code",
   "execution_count": 12,
   "metadata": {},
   "outputs": [
    {
     "name": "stdout",
     "output_type": "stream",
     "text": [
      "Correct predictions: 3 out of 4\n",
      "Calculated acc: 0.75\n"
     ]
    }
   ],
   "source": [
    "print(\"Correct predictions: \" + str(count) + \" out of \" + str(total))\n",
    "print(\"Calculated acc: \" + str(count/total))"
   ]
  },
  {
   "cell_type": "code",
   "execution_count": null,
   "metadata": {},
   "outputs": [],
   "source": []
  }
 ],
 "metadata": {
  "kernelspec": {
   "display_name": "Python 3",
   "language": "python",
   "name": "python3"
  },
  "language_info": {
   "codemirror_mode": {
    "name": "ipython",
    "version": 3
   },
   "file_extension": ".py",
   "mimetype": "text/x-python",
   "name": "python",
   "nbconvert_exporter": "python",
   "pygments_lexer": "ipython3",
   "version": "3.7.6"
  }
 },
 "nbformat": 4,
 "nbformat_minor": 4
}
